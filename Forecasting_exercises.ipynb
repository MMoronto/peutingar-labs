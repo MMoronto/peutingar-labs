{
  "nbformat": 4,
  "nbformat_minor": 0,
  "metadata": {
    "colab": {
      "provenance": [],
      "mount_file_id": "1RRekHRINkLTiBF9WmN7J2LA3jP1jB1i0",
      "authorship_tag": "ABX9TyNq9TEA+yQpJtsVMXfKy/ew",
      "include_colab_link": true
    },
    "kernelspec": {
      "name": "python3",
      "display_name": "Python 3"
    },
    "language_info": {
      "name": "python"
    }
  },
  "cells": [
    {
      "cell_type": "markdown",
      "metadata": {
        "id": "view-in-github",
        "colab_type": "text"
      },
      "source": [
        "<a href=\"https://colab.research.google.com/github/MMoronto/peutingar-labs/blob/master/Forecasting_exercises.ipynb\" target=\"_parent\"><img src=\"https://colab.research.google.com/assets/colab-badge.svg\" alt=\"Open In Colab\"/></a>"
      ]
    },
    {
      "cell_type": "code",
      "execution_count": 14,
      "metadata": {
        "id": "tf_ZZEii_W4v"
      },
      "outputs": [],
      "source": [
        "import itertools\n",
        "import warnings\n",
        "\n",
        "import numpy as np\n",
        "import pandas as pd\n",
        "\n",
        "import matplotlib.pyplot as plt\n",
        "import seaborn as sns\n",
        "\n",
        "from scipy import stats\n",
        "import statsmodels.api as sm\n",
        "import statsmodels.formula.api as smf\n",
        "# import pmdarima as pmd\n",
        "\n",
        "import rdatasets\n",
        "\n",
        "from tqdm import tqdm\n",
        "\n",
        "\n",
        "plt.rc('axes', titlesize='medium')\n",
        "plt.rc('axes', titlelocation='left')\n",
        "plt.rc('axes.spines', right=False)\n",
        "plt.rc('axes.spines', top=False)\n",
        "sizets = (8,4.5)\n",
        "plt.rc('figure', figsize=sizets)\n",
        "\n",
        "\n",
        "def summarize(gb, f):\n",
        "    \"\"\"Summarize grouped things.\"\"\"\n",
        "    return gb.apply(lambda x: pd.Series(f(x)))\n",
        "\n",
        "\n",
        "def compute(df, f):\n",
        "    \"\"\"Compute new (or replacement) columns.\"\"\"\n",
        "    newdf = pd.DataFrame(f(df), index=df.index)\n",
        "    dropcols = [col for col in newdf.columns if col in df.columns]\n",
        "    if dropcols:\n",
        "        df = df.drop(columns=dropcols)\n",
        "    return df.join(newdf)\n",
        "\n",
        "\n",
        "def set_freq(df, freq=None):\n",
        "    \"\"\"Set frequency of DateTimeIndex.\"\"\"\n",
        "    if freq is None:\n",
        "        freq = pd.infer_freq(df.index)\n",
        "    return df.asfreq(freq)\n",
        "\n",
        "\n",
        "def extend_timeseries(df, tmax=None, tmin=None, dt=None):\n",
        "    \"\"\"Extend timeseries data to later or earlier times.\"\"\"\n",
        "    freq = df.index.freq\n",
        "    if tmax is tmin is dt is None:\n",
        "        dt = 1\n",
        "    if tmin is None:\n",
        "        tmin = df.index.min()\n",
        "    if tmax is None:\n",
        "        tmax = df.index.max()\n",
        "    if dt is not None:\n",
        "        if isinstance(dt, int):\n",
        "            if dt > 0:\n",
        "                tmax += dt * freq\n",
        "            elif dt < 0:\n",
        "                tmin += dt * freq\n",
        "        else:\n",
        "            dt = pd.to_timedelta(dt)\n",
        "            if dt > pd.to_timedelta('0d'):\n",
        "                tmax += dt\n",
        "            else:\n",
        "                tmin -= dt\n",
        "    index = pd.date_range(tmin, tmax, freq=freq)\n",
        "    return df.reindex(index)\n",
        "\n",
        "\n",
        "def suptitle(fig, text=None, **kw):\n",
        "    \"\"\"Add a nice left-aligned suptitle.\"\"\"\n",
        "    if text is None:\n",
        "        fig, text = plt.gcf(), fig\n",
        "    fig = fig.figure or fig\n",
        "    fig.text(fig.subplotpars.left, .99, text, ha='left', va='top', size='large', **kw)\n",
        "    \n",
        "    \n",
        "def rlabel(ax, label=None, **kw):\n",
        "    \"\"\"Add a right-side axis title.\"\"\"\n",
        "    if label is None:\n",
        "        ax, label = plt.gca(), ax\n",
        "    bbox = kw.pop('bbox', dict(facecolor='.9', alpha=0.2))\n",
        "    ax.text(1, .5, label,\n",
        "            rotation=-90, ha='left', va='center', transform=ax.transAxes,\n",
        "            bbox=bbox, **kw)\n",
        "    \n",
        "\n",
        "def xdate(ax, fmt=None, freq=None):\n",
        "    \"\"\"Tweak x-axis date formatting.\"\"\"\n",
        "    dates = plt.matplotlib.dates\n",
        "    if fmt is None:\n",
        "        ax, fmt = plt.gca(), ax\n",
        "    if freq:\n",
        "        t1, t2 = dates.num2date(ax.get_xticks()[[0,-1]])\n",
        "        ticks = pd.date_range(t1, t2, freq=freq)\n",
        "        ax.set_xticks(ticks)\n",
        "    ax.xaxis.set_major_formatter(dates.DateFormatter(fmt))\n",
        "    \n",
        "    \n",
        "def plot_tsresiduals(Y, y, acf_lags=np.r_[1:26]):\n",
        "    \"\"\"Plot timeseries residuals for ground truth Y and estimate y.\"\"\"\n",
        "    fig = plt.figure()\n",
        "    gs = plt.GridSpec(3, 2, figure=fig)\n",
        "    ts_ax = fig.add_subplot(gs[0,:])\n",
        "    axs = np.array([ts_ax] + [fig.add_subplot(gs[i,j]) for j in (0,1) for i in (1,2)])\n",
        "    ax, rax, hax, acfax, pacfax = axs\n",
        "    #((ax, hax), (rax, acfax)) = axs\n",
        "    mask = ~(np.isnan(Y) | np.isnan(y))\n",
        "    Y, y = Y[mask], y[mask]\n",
        "    #dy = y - Y\n",
        "    # I was surprised by this convention but ok\n",
        "    dy = Y - y\n",
        "    ax.plot(Y, color='k')\n",
        "    ax.plot(y)\n",
        "    ax.set(title='Time Series')\n",
        "    lim = 1.1 * max(-dy.min(), dy.max())\n",
        "    lim = -lim, lim\n",
        "    rax.plot(dy)\n",
        "    rax.set(ylim=lim, title='Residuals')\n",
        "    sns.distplot(dy, bins=np.linspace(lim[0], lim[1], 22),\n",
        "                 hist=True, kde=True, rug=True, ax=hax)\n",
        "    hax.set(title='Residual Distribution')\n",
        "    sm.graphics.tsa.plot_acf(dy, lags=acf_lags, ax=acfax)\n",
        "    sm.graphics.tsa.plot_pacf(dy, lags=acf_lags, ax=pacfax)\n",
        "    for a in axs.ravel():\n",
        "        a.grid()\n",
        "    plt.tight_layout()\n",
        "    return fig, axs\n",
        "\n",
        "\n",
        "def RMSE(Y, y):\n",
        "    \"\"\"Root-mean-square error.\"\"\"\n",
        "    return np.sqrt(np.mean((Y-y)**2))\n",
        "def MAE(Y, y):\n",
        "    \"\"\"Mean absolute error.\"\"\"\n",
        "    return np.mean(np.abs(Y-y))\n",
        "def MAPE(Y, y):\n",
        "    \"\"\"Mean absolute percent error.\"\"\"\n",
        "    return 100 * np.mean(np.abs((Y-y)/Y))\n",
        "def MASE(Y, y):\n",
        "    \"\"\"TODO\"\"\"\n",
        "    return np.nan # TODO\n",
        "\n",
        "\n",
        "def tsaccuracy(Ytest, models):\n",
        "    \"\"\"Gather some metrics for a few models.\"\"\"\n",
        "    fs = RMSE, MAE, MAPE, MASE\n",
        "    return pd.DataFrame({\n",
        "        label: [ f(Ytest, model.predict(Ytest.index.min(), Ytest.index.max()))\n",
        "                for f in (RMSE, MAE, MAPE, MASE) ]\n",
        "        for (label, model) in models.items()\n",
        "    }, index=[f.__name__ for f in fs]).T\n",
        "\n",
        "def ciclean(ci_df):\n",
        "    \"\"\"Clean up conf_int() result column names.\"\"\"\n",
        "    ci_df = ci_df.copy()\n",
        "    ci_df.columns = 'lower', 'upper'\n",
        "    return ci_df\n",
        "\n",
        "\n",
        "legend_right = dict(loc='center left', bbox_to_anchor=[1, .5])"
      ]
    },
    {
      "cell_type": "code",
      "source": [
        "!apt install pmdarima as pmd"
      ],
      "metadata": {
        "colab": {
          "base_uri": "https://localhost:8080/"
        },
        "id": "mNMzihduE9ze",
        "outputId": "9d1cdc96-4c47-4cae-d4c7-e2151dfa23a4"
      },
      "execution_count": 15,
      "outputs": [
        {
          "output_type": "stream",
          "name": "stdout",
          "text": [
            "Reading package lists... Done\n",
            "Building dependency tree       \n",
            "Reading state information... Done\n",
            "\u001b[1;31mE: \u001b[0mUnable to locate package pmdarima\u001b[0m\n",
            "\u001b[1;31mE: \u001b[0mUnable to locate package as\u001b[0m\n",
            "\u001b[1;31mE: \u001b[0mUnable to locate package pmd\u001b[0m\n"
          ]
        }
      ]
    },
    {
      "cell_type": "code",
      "source": [
        "!pip install rdatasets"
      ],
      "metadata": {
        "colab": {
          "base_uri": "https://localhost:8080/"
        },
        "id": "FvQrEpH3AbjD",
        "outputId": "072d3e90-cb70-4bc1-9c3d-9db40033f138"
      },
      "execution_count": 31,
      "outputs": [
        {
          "output_type": "stream",
          "name": "stdout",
          "text": [
            "Looking in indexes: https://pypi.org/simple, https://us-python.pkg.dev/colab-wheels/public/simple/\n",
            "Requirement already satisfied: rdatasets in /usr/local/lib/python3.10/dist-packages (0.1.0)\n",
            "Requirement already satisfied: pandas in /usr/local/lib/python3.10/dist-packages (from rdatasets) (1.5.3)\n",
            "Requirement already satisfied: python-dateutil>=2.8.1 in /usr/local/lib/python3.10/dist-packages (from pandas->rdatasets) (2.8.2)\n",
            "Requirement already satisfied: pytz>=2020.1 in /usr/local/lib/python3.10/dist-packages (from pandas->rdatasets) (2022.7.1)\n",
            "Requirement already satisfied: numpy>=1.21.0 in /usr/local/lib/python3.10/dist-packages (from pandas->rdatasets) (1.22.4)\n",
            "Requirement already satisfied: six>=1.5 in /usr/local/lib/python3.10/dist-packages (from python-dateutil>=2.8.1->pandas->rdatasets) (1.16.0)\n"
          ]
        }
      ]
    },
    {
      "cell_type": "code",
      "source": [
        "import sys\n",
        "!pip install utils\n",
        "sys.path.insert(0, '.')\n",
        "from utils import *"
      ],
      "metadata": {
        "colab": {
          "base_uri": "https://localhost:8080/"
        },
        "id": "P2EnReO0A64M",
        "outputId": "8a27ea0f-5a81-4cf6-8eff-74d095bf018c"
      },
      "execution_count": 42,
      "outputs": [
        {
          "output_type": "stream",
          "name": "stdout",
          "text": [
            "Looking in indexes: https://pypi.org/simple, https://us-python.pkg.dev/colab-wheels/public/simple/\n",
            "Collecting utils\n",
            "  Downloading utils-1.0.1-py2.py3-none-any.whl (21 kB)\n",
            "Installing collected packages: utils\n",
            "Successfully installed utils-1.0.1\n"
          ]
        }
      ]
    },
    {
      "cell_type": "markdown",
      "source": [
        "https://robjhyndman.com/hyndsight/ts2csv/"
      ],
      "metadata": {
        "id": "p2Zh9Rf-P8mc"
      }
    },
    {
      "cell_type": "code",
      "source": [
        "# https://robjhyndman.com/hyndsight/ts2csv/\n",
        "# !apt-get -qq install -y library && pip install -U fpp3\n",
        "# import libarchive\n",
        "# pip install fpp3\n",
        "library(fpp3)\n",
        "library(dplyr)\n",
        "library(purrr)\n",
        "library(fma)"
      ],
      "metadata": {
        "colab": {
          "base_uri": "https://localhost:8080/",
          "height": 235
        },
        "id": "VNdB6hUPC_dy",
        "outputId": "d67a843b-390b-4c80-8835-a3a01167d67d"
      },
      "execution_count": 48,
      "outputs": [
        {
          "output_type": "error",
          "ename": "NameError",
          "evalue": "ignored",
          "traceback": [
            "\u001b[0;31m---------------------------------------------------------------------------\u001b[0m",
            "\u001b[0;31mNameError\u001b[0m                                 Traceback (most recent call last)",
            "\u001b[0;32m<ipython-input-48-1e7dca8777bb>\u001b[0m in \u001b[0;36m<cell line: 5>\u001b[0;34m()\u001b[0m\n\u001b[1;32m      3\u001b[0m \u001b[0;31m# import libarchive\u001b[0m\u001b[0;34m\u001b[0m\u001b[0;34m\u001b[0m\u001b[0m\n\u001b[1;32m      4\u001b[0m \u001b[0;31m# pip install fpp3\u001b[0m\u001b[0;34m\u001b[0m\u001b[0;34m\u001b[0m\u001b[0m\n\u001b[0;32m----> 5\u001b[0;31m \u001b[0mlibrary\u001b[0m\u001b[0;34m(\u001b[0m\u001b[0mfpp3\u001b[0m\u001b[0;34m)\u001b[0m\u001b[0;34m\u001b[0m\u001b[0;34m\u001b[0m\u001b[0m\n\u001b[0m\u001b[1;32m      6\u001b[0m \u001b[0mlibrary\u001b[0m\u001b[0;34m(\u001b[0m\u001b[0mdplyr\u001b[0m\u001b[0;34m)\u001b[0m\u001b[0;34m\u001b[0m\u001b[0;34m\u001b[0m\u001b[0m\n\u001b[1;32m      7\u001b[0m \u001b[0mlibrary\u001b[0m\u001b[0;34m(\u001b[0m\u001b[0mpurrr\u001b[0m\u001b[0;34m)\u001b[0m\u001b[0;34m\u001b[0m\u001b[0;34m\u001b[0m\u001b[0m\n",
            "\u001b[0;31mNameError\u001b[0m: name 'library' is not defined"
          ]
        }
      ]
    }
  ]
}